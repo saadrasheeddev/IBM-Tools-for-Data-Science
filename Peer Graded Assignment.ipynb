{
 "cells": [
  {
   "cell_type": "markdown",
   "id": "5b8a4cc7",
   "metadata": {},
   "source": [
    "# Notebook Title\n"
   ]
  },
  {
   "cell_type": "markdown",
   "id": "1f3e82a7",
   "metadata": {},
   "source": [
    "## Introduction\n",
    "\n",
    "This notebook explores various aspects of data science and related tools.\n"
   ]
  },
  {
   "cell_type": "markdown",
   "id": "cdc63531",
   "metadata": {},
   "source": [
    "## Data Science Languages\n",
    "\n",
    "- Python\n",
    "- R\n",
    "- Julia\n",
    "- SQL\n"
   ]
  },
  {
   "cell_type": "markdown",
   "id": "faabbde7",
   "metadata": {},
   "source": [
    "## Data Science Libraries\n",
    "\n",
    "- Pandas\n",
    "- NumPy\n",
    "- Matplotlib\n",
    "- Scikit-learn\n",
    "- TensorFlow\n",
    "- PyTorch\n"
   ]
  },
  {
   "cell_type": "markdown",
   "id": "0ce88de5",
   "metadata": {},
   "source": [
    "## Data Science Tools\n",
    "\n",
    "| Tool         | Description                   |\n",
    "|--------------|-------------------------------|\n",
    "| Jupyter      | Interactive notebooks         |\n",
    "| Tableau      | Data visualization            |\n",
    "| Docker       | Containerization              |\n",
    "| Spark        | Big data processing           |\n",
    "| Hadoop       | Distributed storage and processing |\n"
   ]
  },
  {
   "cell_type": "markdown",
   "id": "00ef2e8c",
   "metadata": {},
   "source": [
    "## Arithmetic Expression Examples\n",
    "\n",
    "This section demonstrates basic arithmetic operations.\n"
   ]
  },
  {
   "cell_type": "code",
   "execution_count": 1,
   "id": "ad1210b7",
   "metadata": {},
   "outputs": [
    {
     "name": "stdout",
     "output_type": "stream",
     "text": [
      "Multiplication: 50\n",
      "Addition: 15\n"
     ]
    }
   ],
   "source": [
    "# Multiplication and addition\n",
    "a = 5\n",
    "b = 10\n",
    "result_multiply = a * b\n",
    "result_addition = a + b\n",
    "\n",
    "print(\"Multiplication:\", result_multiply)\n",
    "print(\"Addition:\", result_addition)\n"
   ]
  },
  {
   "cell_type": "code",
   "execution_count": 3,
   "id": "6033c584",
   "metadata": {},
   "outputs": [
    {
     "name": "stdout",
     "output_type": "stream",
     "text": [
      "Hours: 2.0\n"
     ]
    }
   ],
   "source": [
    "# Convert minutes to hours\n",
    "minutes = 120\n",
    "hours = minutes / 60\n",
    "\n",
    "print(\"Hours:\", hours)\n"
   ]
  },
  {
   "cell_type": "markdown",
   "id": "e5eaa19b",
   "metadata": {},
   "source": [
    "## Objectives\n",
    "\n",
    "- Explore data science languages and libraries.\n",
    "- Demonstrate basic arithmetic operations.\n",
    "- Convert time units.\n"
   ]
  },
  {
   "cell_type": "markdown",
   "id": "fa995ab2",
   "metadata": {},
   "source": [
    "## Author\n",
    "\n",
    "Author: Saad Rasheed\n"
   ]
  },
  {
   "cell_type": "code",
   "execution_count": null,
   "id": "83a9acac",
   "metadata": {},
   "outputs": [],
   "source": []
  }
 ],
 "metadata": {
  "kernelspec": {
   "display_name": "Python 3 (ipykernel)",
   "language": "python",
   "name": "python3"
  },
  "language_info": {
   "codemirror_mode": {
    "name": "ipython",
    "version": 3
   },
   "file_extension": ".py",
   "mimetype": "text/x-python",
   "name": "python",
   "nbconvert_exporter": "python",
   "pygments_lexer": "ipython3",
   "version": "3.11.4"
  }
 },
 "nbformat": 4,
 "nbformat_minor": 5
}
